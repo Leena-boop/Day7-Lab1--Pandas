{
  "cells": [
    {
      "cell_type": "code",
      "execution_count": 1,
      "id": "d3aaed2d",
      "metadata": {
        "id": "d3aaed2d"
      },
      "outputs": [],
      "source": [
        "import pandas as pd"
      ]
    },
    {
      "cell_type": "markdown",
      "id": "c8502047",
      "metadata": {
        "id": "c8502047"
      },
      "source": [
        "## Q1: Create a Series with indexes = 1, 2, 3 and has three names."
      ]
    },
    {
      "cell_type": "code",
      "execution_count": 2,
      "id": "dc122631",
      "metadata": {
        "colab": {
          "base_uri": "https://localhost:8080/"
        },
        "id": "dc122631",
        "outputId": "d9ba27aa-d4c7-4746-857f-d57c6bb29b17"
      },
      "outputs": [
        {
          "data": {
            "text/plain": [
              "1    Leena\n",
              "2     Maha\n",
              "3     Soso\n",
              "dtype: object"
            ]
          },
          "execution_count": 2,
          "metadata": {},
          "output_type": "execute_result"
        }
      ],
      "source": [
        "a = pd.Series([\"Leena\", \"Maha\", \"Soso\"], index=[1, 2,3])\n",
        "a"
      ]
    },
    {
      "cell_type": "markdown",
      "id": "443e73f6",
      "metadata": {
        "id": "443e73f6"
      },
      "source": [
        "## Q2: Change indexes to 11, 12, 13."
      ]
    },
    {
      "cell_type": "code",
      "execution_count": 3,
      "id": "ae224dba",
      "metadata": {
        "colab": {
          "base_uri": "https://localhost:8080/"
        },
        "id": "ae224dba",
        "outputId": "835f4077-eb33-46af-940f-d903b30ee2f0"
      },
      "outputs": [
        {
          "data": {
            "text/plain": [
              "11    Leena\n",
              "12     Maha\n",
              "13     Soso\n",
              "dtype: object"
            ]
          },
          "execution_count": 3,
          "metadata": {},
          "output_type": "execute_result"
        }
      ],
      "source": [
        "a.index=[11, 12, 13]\n",
        "a"
      ]
    },
    {
      "cell_type": "markdown",
      "id": "7f562099",
      "metadata": {
        "id": "7f562099"
      },
      "source": [
        "## Q3: Retrieve First and second elements."
      ]
    },
    {
      "cell_type": "code",
      "execution_count": 4,
      "id": "bbe9dee3",
      "metadata": {
        "colab": {
          "base_uri": "https://localhost:8080/"
        },
        "id": "bbe9dee3",
        "outputId": "e9e8d545-9a51-427d-a230-3c4469491174"
      },
      "outputs": [
        {
          "data": {
            "text/plain": [
              "11    Leena\n",
              "12     Maha\n",
              "dtype: object"
            ]
          },
          "execution_count": 4,
          "metadata": {},
          "output_type": "execute_result"
        }
      ],
      "source": [
        "a.iloc[0:2]"
      ]
    },
    {
      "cell_type": "markdown",
      "id": "c771754d",
      "metadata": {
        "id": "c771754d"
      },
      "source": [
        "## Q4: Add duplicate elements, then remove the duplication"
      ]
    },
    {
      "cell_type": "code",
      "execution_count": 5,
      "id": "cf5a1d1a",
      "metadata": {
        "colab": {
          "base_uri": "https://localhost:8080/"
        },
        "id": "cf5a1d1a",
        "outputId": "094164fd-9f47-4311-d4e8-6ce74d4942d8"
      },
      "outputs": [
        {
          "name": "stderr",
          "output_type": "stream",
          "text": [
            "/var/folders/6n/rhnjlfdn42sfzqk04k7rf6980000gn/T/ipykernel_6289/2244471310.py:1: FutureWarning: The series.append method is deprecated and will be removed from pandas in a future version. Use pandas.concat instead.\n",
            "  b = a.append(pd.Series([\"Leena\", \"Maha\"]))\n"
          ]
        },
        {
          "data": {
            "text/plain": [
              "11    Leena\n",
              "12     Maha\n",
              "13     Soso\n",
              "0     Leena\n",
              "1      Maha\n",
              "dtype: object"
            ]
          },
          "execution_count": 5,
          "metadata": {},
          "output_type": "execute_result"
        }
      ],
      "source": [
        "b = a.append(pd.Series([\"Leena\", \"Maha\"]))\n",
        "b"
      ]
    },
    {
      "cell_type": "code",
      "execution_count": 6,
      "id": "67282a9b",
      "metadata": {
        "colab": {
          "base_uri": "https://localhost:8080/"
        },
        "id": "67282a9b",
        "outputId": "fe1b94f6-cd00-432b-fe18-0a010ffb4831"
      },
      "outputs": [
        {
          "data": {
            "text/plain": [
              "11    Leena\n",
              "12     Maha\n",
              "13     Soso\n",
              "dtype: object"
            ]
          },
          "execution_count": 6,
          "metadata": {},
          "output_type": "execute_result"
        }
      ],
      "source": [
        "b.drop_duplicates()"
      ]
    },
    {
      "cell_type": "markdown",
      "id": "329164fe",
      "metadata": {
        "id": "329164fe"
      },
      "source": [
        "## Q5: Create a Students DataFrame has three columns (ID, Name)"
      ]
    },
    {
      "cell_type": "code",
      "execution_count": 7,
      "id": "873e1727",
      "metadata": {
        "colab": {
          "base_uri": "https://localhost:8080/",
          "height": 143
        },
        "id": "873e1727",
        "outputId": "2fc2e42c-f913-4b39-ea6a-6dde4437d5c6"
      },
      "outputs": [
        {
          "data": {
            "text/html": [
              "<div>\n",
              "<style scoped>\n",
              "    .dataframe tbody tr th:only-of-type {\n",
              "        vertical-align: middle;\n",
              "    }\n",
              "\n",
              "    .dataframe tbody tr th {\n",
              "        vertical-align: top;\n",
              "    }\n",
              "\n",
              "    .dataframe thead th {\n",
              "        text-align: right;\n",
              "    }\n",
              "</style>\n",
              "<table border=\"1\" class=\"dataframe\">\n",
              "  <thead>\n",
              "    <tr style=\"text-align: right;\">\n",
              "      <th></th>\n",
              "      <th>0</th>\n",
              "    </tr>\n",
              "  </thead>\n",
              "  <tbody>\n",
              "    <tr>\n",
              "      <th>Leena</th>\n",
              "      <td>71</td>\n",
              "    </tr>\n",
              "    <tr>\n",
              "      <th>Maha</th>\n",
              "      <td>52</td>\n",
              "    </tr>\n",
              "    <tr>\n",
              "      <th>Soso</th>\n",
              "      <td>11</td>\n",
              "    </tr>\n",
              "  </tbody>\n",
              "</table>\n",
              "</div>"
            ],
            "text/plain": [
              "        0\n",
              "Leena  71\n",
              "Maha   52\n",
              "Soso   11"
            ]
          },
          "execution_count": 7,
          "metadata": {},
          "output_type": "execute_result"
        }
      ],
      "source": [
        "students_df = pd.DataFrame([71, 52, 11], [\"Leena\", \"Maha\", \"Soso\"])\n",
        "students_df"
      ]
    },
    {
      "cell_type": "markdown",
      "id": "2808d244",
      "metadata": {
        "id": "2808d244"
      },
      "source": [
        "## Q6: Read educ_figdp_1_Data.csv file"
      ]
    },
    {
      "cell_type": "code",
      "execution_count": 8,
      "id": "v0eWZwY854m5",
      "metadata": {
        "colab": {
          "base_uri": "https://localhost:8080/",
          "height": 455
        },
        "id": "v0eWZwY854m5",
        "outputId": "e58639c4-6f2d-4c29-9a7e-3a20688516ed"
      },
      "outputs": [
        {
          "data": {
            "text/html": [
              "<div>\n",
              "<style scoped>\n",
              "    .dataframe tbody tr th:only-of-type {\n",
              "        vertical-align: middle;\n",
              "    }\n",
              "\n",
              "    .dataframe tbody tr th {\n",
              "        vertical-align: top;\n",
              "    }\n",
              "\n",
              "    .dataframe thead th {\n",
              "        text-align: right;\n",
              "    }\n",
              "</style>\n",
              "<table border=\"1\" class=\"dataframe\">\n",
              "  <thead>\n",
              "    <tr style=\"text-align: right;\">\n",
              "      <th></th>\n",
              "      <th>GEO</th>\n",
              "      <th>INDIC_ED</th>\n",
              "      <th>Value</th>\n",
              "      <th>Flag and Footnotes</th>\n",
              "    </tr>\n",
              "    <tr>\n",
              "      <th>TIME</th>\n",
              "      <th></th>\n",
              "      <th></th>\n",
              "      <th></th>\n",
              "      <th></th>\n",
              "    </tr>\n",
              "  </thead>\n",
              "  <tbody>\n",
              "    <tr>\n",
              "      <th>2000</th>\n",
              "      <td>European Union (28 countries)</td>\n",
              "      <td>Total public expenditure on education as % of ...</td>\n",
              "      <td>:</td>\n",
              "      <td>NaN</td>\n",
              "    </tr>\n",
              "    <tr>\n",
              "      <th>2001</th>\n",
              "      <td>European Union (28 countries)</td>\n",
              "      <td>Total public expenditure on education as % of ...</td>\n",
              "      <td>:</td>\n",
              "      <td>NaN</td>\n",
              "    </tr>\n",
              "    <tr>\n",
              "      <th>2002</th>\n",
              "      <td>European Union (28 countries)</td>\n",
              "      <td>Total public expenditure on education as % of ...</td>\n",
              "      <td>5.00</td>\n",
              "      <td>e</td>\n",
              "    </tr>\n",
              "    <tr>\n",
              "      <th>2003</th>\n",
              "      <td>European Union (28 countries)</td>\n",
              "      <td>Total public expenditure on education as % of ...</td>\n",
              "      <td>5.03</td>\n",
              "      <td>e</td>\n",
              "    </tr>\n",
              "    <tr>\n",
              "      <th>2004</th>\n",
              "      <td>European Union (28 countries)</td>\n",
              "      <td>Total public expenditure on education as % of ...</td>\n",
              "      <td>4.95</td>\n",
              "      <td>e</td>\n",
              "    </tr>\n",
              "    <tr>\n",
              "      <th>...</th>\n",
              "      <td>...</td>\n",
              "      <td>...</td>\n",
              "      <td>...</td>\n",
              "      <td>...</td>\n",
              "    </tr>\n",
              "    <tr>\n",
              "      <th>2007</th>\n",
              "      <td>Finland</td>\n",
              "      <td>Total public expenditure on education as % of ...</td>\n",
              "      <td>5.90</td>\n",
              "      <td>NaN</td>\n",
              "    </tr>\n",
              "    <tr>\n",
              "      <th>2008</th>\n",
              "      <td>Finland</td>\n",
              "      <td>Total public expenditure on education as % of ...</td>\n",
              "      <td>6.10</td>\n",
              "      <td>NaN</td>\n",
              "    </tr>\n",
              "    <tr>\n",
              "      <th>2009</th>\n",
              "      <td>Finland</td>\n",
              "      <td>Total public expenditure on education as % of ...</td>\n",
              "      <td>6.81</td>\n",
              "      <td>NaN</td>\n",
              "    </tr>\n",
              "    <tr>\n",
              "      <th>2010</th>\n",
              "      <td>Finland</td>\n",
              "      <td>Total public expenditure on education as % of ...</td>\n",
              "      <td>6.85</td>\n",
              "      <td>NaN</td>\n",
              "    </tr>\n",
              "    <tr>\n",
              "      <th>2011</th>\n",
              "      <td>Finland</td>\n",
              "      <td>Total public expenditure on education as % of ...</td>\n",
              "      <td>6.76</td>\n",
              "      <td>NaN</td>\n",
              "    </tr>\n",
              "  </tbody>\n",
              "</table>\n",
              "<p>384 rows × 4 columns</p>\n",
              "</div>"
            ],
            "text/plain": [
              "                                GEO  \\\n",
              "TIME                                  \n",
              "2000  European Union (28 countries)   \n",
              "2001  European Union (28 countries)   \n",
              "2002  European Union (28 countries)   \n",
              "2003  European Union (28 countries)   \n",
              "2004  European Union (28 countries)   \n",
              "...                             ...   \n",
              "2007                        Finland   \n",
              "2008                        Finland   \n",
              "2009                        Finland   \n",
              "2010                        Finland   \n",
              "2011                        Finland   \n",
              "\n",
              "                                               INDIC_ED Value  \\\n",
              "TIME                                                            \n",
              "2000  Total public expenditure on education as % of ...     :   \n",
              "2001  Total public expenditure on education as % of ...     :   \n",
              "2002  Total public expenditure on education as % of ...  5.00   \n",
              "2003  Total public expenditure on education as % of ...  5.03   \n",
              "2004  Total public expenditure on education as % of ...  4.95   \n",
              "...                                                 ...   ...   \n",
              "2007  Total public expenditure on education as % of ...  5.90   \n",
              "2008  Total public expenditure on education as % of ...  6.10   \n",
              "2009  Total public expenditure on education as % of ...  6.81   \n",
              "2010  Total public expenditure on education as % of ...  6.85   \n",
              "2011  Total public expenditure on education as % of ...  6.76   \n",
              "\n",
              "     Flag and Footnotes  \n",
              "TIME                     \n",
              "2000                NaN  \n",
              "2001                NaN  \n",
              "2002                  e  \n",
              "2003                  e  \n",
              "2004                  e  \n",
              "...                 ...  \n",
              "2007                NaN  \n",
              "2008                NaN  \n",
              "2009                NaN  \n",
              "2010                NaN  \n",
              "2011                NaN  \n",
              "\n",
              "[384 rows x 4 columns]"
            ]
          },
          "execution_count": 8,
          "metadata": {},
          "output_type": "execute_result"
        }
      ],
      "source": [
        "edu = pd.read_csv(\"educ_figdp_1_Data.csv\").set_index([\"TIME\"])\n",
        "\n",
        "edu"
      ]
    },
    {
      "cell_type": "markdown",
      "id": "34574733",
      "metadata": {
        "id": "34574733"
      },
      "source": [
        "## Q7: What is the difference between loc and slicing?\n",
        "- loc use the index labels as references\n",
        "- slice use the position as references"
      ]
    },
    {
      "cell_type": "markdown",
      "id": "vm0nU41W7svm",
      "metadata": {
        "id": "vm0nU41W7svm"
      },
      "source": [
        "`.loc` is a label based method whereas `.iloc` is an integer-based method. This means that `iloc` will consider the names or labels of the index when we are slicing the dataframe.\n",
        "\n",
        "`.iloc` takes slices based on index’s position. Unlike `.loc`, `.iloc` behaves like regular Python slicing. That is, we just indicate the positional index number, and we get the slice we want.\n"
      ]
    },
    {
      "cell_type": "code",
      "execution_count": 9,
      "id": "0d5876f7",
      "metadata": {
        "colab": {
          "base_uri": "https://localhost:8080/",
          "height": 143
        },
        "id": "0d5876f7",
        "outputId": "496d8d94-be30-46c3-d23a-69480b0fb742"
      },
      "outputs": [
        {
          "data": {
            "text/html": [
              "<div>\n",
              "<style scoped>\n",
              "    .dataframe tbody tr th:only-of-type {\n",
              "        vertical-align: middle;\n",
              "    }\n",
              "\n",
              "    .dataframe tbody tr th {\n",
              "        vertical-align: top;\n",
              "    }\n",
              "\n",
              "    .dataframe thead th {\n",
              "        text-align: right;\n",
              "    }\n",
              "</style>\n",
              "<table border=\"1\" class=\"dataframe\">\n",
              "  <thead>\n",
              "    <tr style=\"text-align: right;\">\n",
              "      <th></th>\n",
              "      <th>GEO</th>\n",
              "      <th>INDIC_ED</th>\n",
              "      <th>Value</th>\n",
              "      <th>Flag and Footnotes</th>\n",
              "    </tr>\n",
              "    <tr>\n",
              "      <th>TIME</th>\n",
              "      <th></th>\n",
              "      <th></th>\n",
              "      <th></th>\n",
              "      <th></th>\n",
              "    </tr>\n",
              "  </thead>\n",
              "  <tbody>\n",
              "    <tr>\n",
              "      <th>2001</th>\n",
              "      <td>European Union (28 countries)</td>\n",
              "      <td>Total public expenditure on education as % of ...</td>\n",
              "      <td>:</td>\n",
              "      <td>NaN</td>\n",
              "    </tr>\n",
              "    <tr>\n",
              "      <th>2002</th>\n",
              "      <td>European Union (28 countries)</td>\n",
              "      <td>Total public expenditure on education as % of ...</td>\n",
              "      <td>5.00</td>\n",
              "      <td>e</td>\n",
              "    </tr>\n",
              "  </tbody>\n",
              "</table>\n",
              "</div>"
            ],
            "text/plain": [
              "                                GEO  \\\n",
              "TIME                                  \n",
              "2001  European Union (28 countries)   \n",
              "2002  European Union (28 countries)   \n",
              "\n",
              "                                               INDIC_ED Value  \\\n",
              "TIME                                                            \n",
              "2001  Total public expenditure on education as % of ...     :   \n",
              "2002  Total public expenditure on education as % of ...  5.00   \n",
              "\n",
              "     Flag and Footnotes  \n",
              "TIME                     \n",
              "2001                NaN  \n",
              "2002                  e  "
            ]
          },
          "execution_count": 9,
          "metadata": {},
          "output_type": "execute_result"
        }
      ],
      "source": [
        "edu[1:3]"
      ]
    },
    {
      "cell_type": "code",
      "execution_count": 10,
      "id": "bbd136db",
      "metadata": {
        "colab": {
          "base_uri": "https://localhost:8080/",
          "height": 1000
        },
        "id": "bbd136db",
        "outputId": "81b71828-bdff-4a7c-b61d-cfb402532b23"
      },
      "outputs": [
        {
          "data": {
            "text/html": [
              "<div>\n",
              "<style scoped>\n",
              "    .dataframe tbody tr th:only-of-type {\n",
              "        vertical-align: middle;\n",
              "    }\n",
              "\n",
              "    .dataframe tbody tr th {\n",
              "        vertical-align: top;\n",
              "    }\n",
              "\n",
              "    .dataframe thead th {\n",
              "        text-align: right;\n",
              "    }\n",
              "</style>\n",
              "<table border=\"1\" class=\"dataframe\">\n",
              "  <thead>\n",
              "    <tr style=\"text-align: right;\">\n",
              "      <th></th>\n",
              "      <th>GEO</th>\n",
              "      <th>INDIC_ED</th>\n",
              "      <th>Value</th>\n",
              "      <th>Flag and Footnotes</th>\n",
              "    </tr>\n",
              "    <tr>\n",
              "      <th>TIME</th>\n",
              "      <th></th>\n",
              "      <th></th>\n",
              "      <th></th>\n",
              "      <th></th>\n",
              "    </tr>\n",
              "  </thead>\n",
              "  <tbody>\n",
              "    <tr>\n",
              "      <th>2001</th>\n",
              "      <td>European Union (28 countries)</td>\n",
              "      <td>Total public expenditure on education as % of ...</td>\n",
              "      <td>:</td>\n",
              "      <td>NaN</td>\n",
              "    </tr>\n",
              "    <tr>\n",
              "      <th>2001</th>\n",
              "      <td>European Union (27 countries)</td>\n",
              "      <td>Total public expenditure on education as % of ...</td>\n",
              "      <td>4.99</td>\n",
              "      <td>s</td>\n",
              "    </tr>\n",
              "    <tr>\n",
              "      <th>2001</th>\n",
              "      <td>European Union (25 countries)</td>\n",
              "      <td>Total public expenditure on education as % of ...</td>\n",
              "      <td>5.02</td>\n",
              "      <td>s</td>\n",
              "    </tr>\n",
              "    <tr>\n",
              "      <th>2001</th>\n",
              "      <td>Euro area (18 countries)</td>\n",
              "      <td>Total public expenditure on education as % of ...</td>\n",
              "      <td>:</td>\n",
              "      <td>NaN</td>\n",
              "    </tr>\n",
              "    <tr>\n",
              "      <th>2001</th>\n",
              "      <td>Euro area (17 countries)</td>\n",
              "      <td>Total public expenditure on education as % of ...</td>\n",
              "      <td>:</td>\n",
              "      <td>NaN</td>\n",
              "    </tr>\n",
              "    <tr>\n",
              "      <th>2001</th>\n",
              "      <td>Euro area (15 countries)</td>\n",
              "      <td>Total public expenditure on education as % of ...</td>\n",
              "      <td>4.98</td>\n",
              "      <td>s</td>\n",
              "    </tr>\n",
              "    <tr>\n",
              "      <th>2001</th>\n",
              "      <td>Euro area (13 countries)</td>\n",
              "      <td>Total public expenditure on education as % of ...</td>\n",
              "      <td>4.97</td>\n",
              "      <td>s</td>\n",
              "    </tr>\n",
              "    <tr>\n",
              "      <th>2001</th>\n",
              "      <td>Belgium</td>\n",
              "      <td>Total public expenditure on education as % of ...</td>\n",
              "      <td>5.99</td>\n",
              "      <td>i</td>\n",
              "    </tr>\n",
              "    <tr>\n",
              "      <th>2001</th>\n",
              "      <td>Bulgaria</td>\n",
              "      <td>Total public expenditure on education as % of ...</td>\n",
              "      <td>3.70</td>\n",
              "      <td>NaN</td>\n",
              "    </tr>\n",
              "    <tr>\n",
              "      <th>2001</th>\n",
              "      <td>Czech Republic</td>\n",
              "      <td>Total public expenditure on education as % of ...</td>\n",
              "      <td>3.93</td>\n",
              "      <td>NaN</td>\n",
              "    </tr>\n",
              "    <tr>\n",
              "      <th>2001</th>\n",
              "      <td>Denmark</td>\n",
              "      <td>Total public expenditure on education as % of ...</td>\n",
              "      <td>8.44</td>\n",
              "      <td>d</td>\n",
              "    </tr>\n",
              "    <tr>\n",
              "      <th>2001</th>\n",
              "      <td>Germany (until 1990 former territory of the FRG)</td>\n",
              "      <td>Total public expenditure on education as % of ...</td>\n",
              "      <td>4.51</td>\n",
              "      <td>NaN</td>\n",
              "    </tr>\n",
              "    <tr>\n",
              "      <th>2001</th>\n",
              "      <td>Estonia</td>\n",
              "      <td>Total public expenditure on education as % of ...</td>\n",
              "      <td>5.24</td>\n",
              "      <td>NaN</td>\n",
              "    </tr>\n",
              "    <tr>\n",
              "      <th>2001</th>\n",
              "      <td>Ireland</td>\n",
              "      <td>Total public expenditure on education as % of ...</td>\n",
              "      <td>4.24</td>\n",
              "      <td>NaN</td>\n",
              "    </tr>\n",
              "    <tr>\n",
              "      <th>2001</th>\n",
              "      <td>Greece</td>\n",
              "      <td>Total public expenditure on education as % of ...</td>\n",
              "      <td>3.50</td>\n",
              "      <td>i</td>\n",
              "    </tr>\n",
              "    <tr>\n",
              "      <th>2001</th>\n",
              "      <td>Spain</td>\n",
              "      <td>Total public expenditure on education as % of ...</td>\n",
              "      <td>4.24</td>\n",
              "      <td>NaN</td>\n",
              "    </tr>\n",
              "    <tr>\n",
              "      <th>2001</th>\n",
              "      <td>France</td>\n",
              "      <td>Total public expenditure on education as % of ...</td>\n",
              "      <td>5.95</td>\n",
              "      <td>NaN</td>\n",
              "    </tr>\n",
              "    <tr>\n",
              "      <th>2001</th>\n",
              "      <td>Italy</td>\n",
              "      <td>Total public expenditure on education as % of ...</td>\n",
              "      <td>4.83</td>\n",
              "      <td>NaN</td>\n",
              "    </tr>\n",
              "    <tr>\n",
              "      <th>2001</th>\n",
              "      <td>Cyprus</td>\n",
              "      <td>Total public expenditure on education as % of ...</td>\n",
              "      <td>5.98</td>\n",
              "      <td>i</td>\n",
              "    </tr>\n",
              "    <tr>\n",
              "      <th>2001</th>\n",
              "      <td>Latvia</td>\n",
              "      <td>Total public expenditure on education as % of ...</td>\n",
              "      <td>7.22</td>\n",
              "      <td>NaN</td>\n",
              "    </tr>\n",
              "    <tr>\n",
              "      <th>2001</th>\n",
              "      <td>Lithuania</td>\n",
              "      <td>Total public expenditure on education as % of ...</td>\n",
              "      <td>5.86</td>\n",
              "      <td>NaN</td>\n",
              "    </tr>\n",
              "    <tr>\n",
              "      <th>2001</th>\n",
              "      <td>Luxembourg</td>\n",
              "      <td>Total public expenditure on education as % of ...</td>\n",
              "      <td>3.75</td>\n",
              "      <td>d</td>\n",
              "    </tr>\n",
              "    <tr>\n",
              "      <th>2001</th>\n",
              "      <td>Hungary</td>\n",
              "      <td>Total public expenditure on education as % of ...</td>\n",
              "      <td>5.06</td>\n",
              "      <td>NaN</td>\n",
              "    </tr>\n",
              "    <tr>\n",
              "      <th>2001</th>\n",
              "      <td>Malta</td>\n",
              "      <td>Total public expenditure on education as % of ...</td>\n",
              "      <td>4.27</td>\n",
              "      <td>NaN</td>\n",
              "    </tr>\n",
              "    <tr>\n",
              "      <th>2001</th>\n",
              "      <td>Netherlands</td>\n",
              "      <td>Total public expenditure on education as % of ...</td>\n",
              "      <td>5.09</td>\n",
              "      <td>NaN</td>\n",
              "    </tr>\n",
              "    <tr>\n",
              "      <th>2001</th>\n",
              "      <td>Austria</td>\n",
              "      <td>Total public expenditure on education as % of ...</td>\n",
              "      <td>5.74</td>\n",
              "      <td>NaN</td>\n",
              "    </tr>\n",
              "    <tr>\n",
              "      <th>2001</th>\n",
              "      <td>Poland</td>\n",
              "      <td>Total public expenditure on education as % of ...</td>\n",
              "      <td>5.42</td>\n",
              "      <td>i</td>\n",
              "    </tr>\n",
              "    <tr>\n",
              "      <th>2001</th>\n",
              "      <td>Portugal</td>\n",
              "      <td>Total public expenditure on education as % of ...</td>\n",
              "      <td>5.39</td>\n",
              "      <td>d</td>\n",
              "    </tr>\n",
              "    <tr>\n",
              "      <th>2001</th>\n",
              "      <td>Romania</td>\n",
              "      <td>Total public expenditure on education as % of ...</td>\n",
              "      <td>3.25</td>\n",
              "      <td>NaN</td>\n",
              "    </tr>\n",
              "    <tr>\n",
              "      <th>2001</th>\n",
              "      <td>Slovenia</td>\n",
              "      <td>Total public expenditure on education as % of ...</td>\n",
              "      <td>5.86</td>\n",
              "      <td>NaN</td>\n",
              "    </tr>\n",
              "    <tr>\n",
              "      <th>2001</th>\n",
              "      <td>Slovakia</td>\n",
              "      <td>Total public expenditure on education as % of ...</td>\n",
              "      <td>3.99</td>\n",
              "      <td>d</td>\n",
              "    </tr>\n",
              "    <tr>\n",
              "      <th>2001</th>\n",
              "      <td>Finland</td>\n",
              "      <td>Total public expenditure on education as % of ...</td>\n",
              "      <td>6.06</td>\n",
              "      <td>NaN</td>\n",
              "    </tr>\n",
              "  </tbody>\n",
              "</table>\n",
              "</div>"
            ],
            "text/plain": [
              "                                                   GEO  \\\n",
              "TIME                                                     \n",
              "2001                     European Union (28 countries)   \n",
              "2001                     European Union (27 countries)   \n",
              "2001                     European Union (25 countries)   \n",
              "2001                          Euro area (18 countries)   \n",
              "2001                          Euro area (17 countries)   \n",
              "2001                          Euro area (15 countries)   \n",
              "2001                          Euro area (13 countries)   \n",
              "2001                                           Belgium   \n",
              "2001                                          Bulgaria   \n",
              "2001                                    Czech Republic   \n",
              "2001                                           Denmark   \n",
              "2001  Germany (until 1990 former territory of the FRG)   \n",
              "2001                                           Estonia   \n",
              "2001                                           Ireland   \n",
              "2001                                            Greece   \n",
              "2001                                             Spain   \n",
              "2001                                            France   \n",
              "2001                                             Italy   \n",
              "2001                                            Cyprus   \n",
              "2001                                            Latvia   \n",
              "2001                                         Lithuania   \n",
              "2001                                        Luxembourg   \n",
              "2001                                           Hungary   \n",
              "2001                                             Malta   \n",
              "2001                                       Netherlands   \n",
              "2001                                           Austria   \n",
              "2001                                            Poland   \n",
              "2001                                          Portugal   \n",
              "2001                                           Romania   \n",
              "2001                                          Slovenia   \n",
              "2001                                          Slovakia   \n",
              "2001                                           Finland   \n",
              "\n",
              "                                               INDIC_ED Value  \\\n",
              "TIME                                                            \n",
              "2001  Total public expenditure on education as % of ...     :   \n",
              "2001  Total public expenditure on education as % of ...  4.99   \n",
              "2001  Total public expenditure on education as % of ...  5.02   \n",
              "2001  Total public expenditure on education as % of ...     :   \n",
              "2001  Total public expenditure on education as % of ...     :   \n",
              "2001  Total public expenditure on education as % of ...  4.98   \n",
              "2001  Total public expenditure on education as % of ...  4.97   \n",
              "2001  Total public expenditure on education as % of ...  5.99   \n",
              "2001  Total public expenditure on education as % of ...  3.70   \n",
              "2001  Total public expenditure on education as % of ...  3.93   \n",
              "2001  Total public expenditure on education as % of ...  8.44   \n",
              "2001  Total public expenditure on education as % of ...  4.51   \n",
              "2001  Total public expenditure on education as % of ...  5.24   \n",
              "2001  Total public expenditure on education as % of ...  4.24   \n",
              "2001  Total public expenditure on education as % of ...  3.50   \n",
              "2001  Total public expenditure on education as % of ...  4.24   \n",
              "2001  Total public expenditure on education as % of ...  5.95   \n",
              "2001  Total public expenditure on education as % of ...  4.83   \n",
              "2001  Total public expenditure on education as % of ...  5.98   \n",
              "2001  Total public expenditure on education as % of ...  7.22   \n",
              "2001  Total public expenditure on education as % of ...  5.86   \n",
              "2001  Total public expenditure on education as % of ...  3.75   \n",
              "2001  Total public expenditure on education as % of ...  5.06   \n",
              "2001  Total public expenditure on education as % of ...  4.27   \n",
              "2001  Total public expenditure on education as % of ...  5.09   \n",
              "2001  Total public expenditure on education as % of ...  5.74   \n",
              "2001  Total public expenditure on education as % of ...  5.42   \n",
              "2001  Total public expenditure on education as % of ...  5.39   \n",
              "2001  Total public expenditure on education as % of ...  3.25   \n",
              "2001  Total public expenditure on education as % of ...  5.86   \n",
              "2001  Total public expenditure on education as % of ...  3.99   \n",
              "2001  Total public expenditure on education as % of ...  6.06   \n",
              "\n",
              "     Flag and Footnotes  \n",
              "TIME                     \n",
              "2001                NaN  \n",
              "2001                  s  \n",
              "2001                  s  \n",
              "2001                NaN  \n",
              "2001                NaN  \n",
              "2001                  s  \n",
              "2001                  s  \n",
              "2001                  i  \n",
              "2001                NaN  \n",
              "2001                NaN  \n",
              "2001                  d  \n",
              "2001                NaN  \n",
              "2001                NaN  \n",
              "2001                NaN  \n",
              "2001                  i  \n",
              "2001                NaN  \n",
              "2001                NaN  \n",
              "2001                NaN  \n",
              "2001                  i  \n",
              "2001                NaN  \n",
              "2001                NaN  \n",
              "2001                  d  \n",
              "2001                NaN  \n",
              "2001                NaN  \n",
              "2001                NaN  \n",
              "2001                NaN  \n",
              "2001                  i  \n",
              "2001                  d  \n",
              "2001                NaN  \n",
              "2001                NaN  \n",
              "2001                  d  \n",
              "2001                NaN  "
            ]
          },
          "execution_count": 10,
          "metadata": {},
          "output_type": "execute_result"
        }
      ],
      "source": [
        "edu.loc[2001]"
      ]
    },
    {
      "cell_type": "code",
      "execution_count": 11,
      "id": "jGTSsP6R8JqU",
      "metadata": {
        "colab": {
          "base_uri": "https://localhost:8080/",
          "height": 143
        },
        "id": "jGTSsP6R8JqU",
        "outputId": "68ccca39-01db-45f9-821c-882f39294a39"
      },
      "outputs": [
        {
          "data": {
            "text/html": [
              "<div>\n",
              "<style scoped>\n",
              "    .dataframe tbody tr th:only-of-type {\n",
              "        vertical-align: middle;\n",
              "    }\n",
              "\n",
              "    .dataframe tbody tr th {\n",
              "        vertical-align: top;\n",
              "    }\n",
              "\n",
              "    .dataframe thead th {\n",
              "        text-align: right;\n",
              "    }\n",
              "</style>\n",
              "<table border=\"1\" class=\"dataframe\">\n",
              "  <thead>\n",
              "    <tr style=\"text-align: right;\">\n",
              "      <th></th>\n",
              "      <th>GEO</th>\n",
              "      <th>INDIC_ED</th>\n",
              "      <th>Value</th>\n",
              "      <th>Flag and Footnotes</th>\n",
              "    </tr>\n",
              "    <tr>\n",
              "      <th>TIME</th>\n",
              "      <th></th>\n",
              "      <th></th>\n",
              "      <th></th>\n",
              "      <th></th>\n",
              "    </tr>\n",
              "  </thead>\n",
              "  <tbody>\n",
              "    <tr>\n",
              "      <th>2001</th>\n",
              "      <td>European Union (28 countries)</td>\n",
              "      <td>Total public expenditure on education as % of ...</td>\n",
              "      <td>:</td>\n",
              "      <td>NaN</td>\n",
              "    </tr>\n",
              "    <tr>\n",
              "      <th>2002</th>\n",
              "      <td>European Union (28 countries)</td>\n",
              "      <td>Total public expenditure on education as % of ...</td>\n",
              "      <td>5.00</td>\n",
              "      <td>e</td>\n",
              "    </tr>\n",
              "  </tbody>\n",
              "</table>\n",
              "</div>"
            ],
            "text/plain": [
              "                                GEO  \\\n",
              "TIME                                  \n",
              "2001  European Union (28 countries)   \n",
              "2002  European Union (28 countries)   \n",
              "\n",
              "                                               INDIC_ED Value  \\\n",
              "TIME                                                            \n",
              "2001  Total public expenditure on education as % of ...     :   \n",
              "2002  Total public expenditure on education as % of ...  5.00   \n",
              "\n",
              "     Flag and Footnotes  \n",
              "TIME                     \n",
              "2001                NaN  \n",
              "2002                  e  "
            ]
          },
          "execution_count": 11,
          "metadata": {},
          "output_type": "execute_result"
        }
      ],
      "source": [
        "edu.iloc[1:3]"
      ]
    }
  ],
  "metadata": {
    "colab": {
      "collapsed_sections": [],
      "name": "Day#7_Pandas_Assignment.ipynb",
      "provenance": []
    },
    "kernelspec": {
      "display_name": "Python 3.9.12 ('base')",
      "language": "python",
      "name": "python3"
    },
    "language_info": {
      "codemirror_mode": {
        "name": "ipython",
        "version": 3
      },
      "file_extension": ".py",
      "mimetype": "text/x-python",
      "name": "python",
      "nbconvert_exporter": "python",
      "pygments_lexer": "ipython3",
      "version": "3.9.12"
    },
    "vscode": {
      "interpreter": {
        "hash": "e14edaf5c5389caffd78999e1423323dbf9219a7969027bff8aed669bee9880a"
      }
    }
  },
  "nbformat": 4,
  "nbformat_minor": 5
}
